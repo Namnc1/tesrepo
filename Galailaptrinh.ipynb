{
 "cells": [
  {
   "cell_type": "code",
   "execution_count": 1,
   "metadata": {},
   "outputs": [
    {
     "name": "stdout",
     "output_type": "stream",
     "text": [
      "3.0\n"
     ]
    }
   ],
   "source": [
    "r = float(input(\"Mời nhập vào bán kính đường tròn: \"))\n",
    "print(r)"
   ]
  },
  {
   "cell_type": "code",
   "execution_count": 6,
   "metadata": {},
   "outputs": [],
   "source": [
    "Chuvi = 2*r*3.14"
   ]
  },
  {
   "cell_type": "code",
   "execution_count": 7,
   "metadata": {},
   "outputs": [
    {
     "name": "stdout",
     "output_type": "stream",
     "text": [
      "18.84\n"
     ]
    }
   ],
   "source": [
    "print(Chuvi)"
   ]
  },
  {
   "cell_type": "code",
   "execution_count": 8,
   "metadata": {},
   "outputs": [
    {
     "name": "stdout",
     "output_type": "stream",
     "text": [
      "chu vi hinh tron la  18.84\n"
     ]
    }
   ],
   "source": [
    "print(\"chu vi hinh tron la \",Chuvi)"
   ]
  },
  {
   "cell_type": "code",
   "execution_count": 1,
   "metadata": {},
   "outputs": [],
   "source": [
    "import pandas as pd\n",
    "import numpy as np"
   ]
  },
  {
   "cell_type": "code",
   "execution_count": 3,
   "metadata": {},
   "outputs": [
    {
     "data": {
      "text/html": [
       "<div>\n",
       "<style scoped>\n",
       "    .dataframe tbody tr th:only-of-type {\n",
       "        vertical-align: middle;\n",
       "    }\n",
       "\n",
       "    .dataframe tbody tr th {\n",
       "        vertical-align: top;\n",
       "    }\n",
       "\n",
       "    .dataframe thead th {\n",
       "        text-align: right;\n",
       "    }\n",
       "</style>\n",
       "<table border=\"1\" class=\"dataframe\">\n",
       "  <thead>\n",
       "    <tr style=\"text-align: right;\">\n",
       "      <th></th>\n",
       "      <th>69855</th>\n",
       "      <th>41809</th>\n",
       "      <th>04144</th>\n",
       "      <th>47133</th>\n",
       "      <th>68113</th>\n",
       "      <th>67046</th>\n",
       "      <th>46302</th>\n",
       "      <th>22116</th>\n",
       "      <th>89807</th>\n",
       "      <th>85082</th>\n",
       "      <th>15457</th>\n",
       "      <th>34488</th>\n",
       "    </tr>\n",
       "  </thead>\n",
       "  <tbody>\n",
       "    <tr>\n",
       "      <th>0</th>\n",
       "      <td>31012.0</td>\n",
       "      <td>40400.0</td>\n",
       "      <td>52726</td>\n",
       "      <td>25702.0</td>\n",
       "      <td>94558.0</td>\n",
       "      <td>96749.0</td>\n",
       "      <td>26550.0</td>\n",
       "      <td>43201.0</td>\n",
       "      <td>38809.0</td>\n",
       "      <td>54691.0</td>\n",
       "      <td>65460.0</td>\n",
       "      <td>11233.0</td>\n",
       "    </tr>\n",
       "    <tr>\n",
       "      <th>1</th>\n",
       "      <td>3953.0</td>\n",
       "      <td>98256.0</td>\n",
       "      <td>41355</td>\n",
       "      <td>61937.0</td>\n",
       "      <td>48476.0</td>\n",
       "      <td>26575.0</td>\n",
       "      <td>35710.0</td>\n",
       "      <td>12631.0</td>\n",
       "      <td>50604.0</td>\n",
       "      <td>56277.0</td>\n",
       "      <td>76684.0</td>\n",
       "      <td>81744.0</td>\n",
       "    </tr>\n",
       "    <tr>\n",
       "      <th>2</th>\n",
       "      <td>17236.0</td>\n",
       "      <td>63414.0</td>\n",
       "      <td>55928</td>\n",
       "      <td>27773.0</td>\n",
       "      <td>68735.0</td>\n",
       "      <td>33643.0</td>\n",
       "      <td>68410.0</td>\n",
       "      <td>79188.0</td>\n",
       "      <td>42991.0</td>\n",
       "      <td>73574.0</td>\n",
       "      <td>4602.0</td>\n",
       "      <td>37984.0</td>\n",
       "    </tr>\n",
       "    <tr>\n",
       "      <th>3</th>\n",
       "      <td>15170.0</td>\n",
       "      <td>92524.0</td>\n",
       "      <td>86110</td>\n",
       "      <td>18679.0</td>\n",
       "      <td>51816.0</td>\n",
       "      <td>23644.0</td>\n",
       "      <td>80838.0</td>\n",
       "      <td>6255.0</td>\n",
       "      <td>73098.0</td>\n",
       "      <td>3658.0</td>\n",
       "      <td>37700.0</td>\n",
       "      <td>49131.0</td>\n",
       "    </tr>\n",
       "    <tr>\n",
       "      <th>4</th>\n",
       "      <td>65651.0</td>\n",
       "      <td>61884.0</td>\n",
       "      <td>24464</td>\n",
       "      <td>84477.0</td>\n",
       "      <td>72286.0</td>\n",
       "      <td>51907.0</td>\n",
       "      <td>65097.0</td>\n",
       "      <td>41343.0</td>\n",
       "      <td>86653.0</td>\n",
       "      <td>15837.0</td>\n",
       "      <td>37452.0</td>\n",
       "      <td>238.0</td>\n",
       "    </tr>\n",
       "    <tr>\n",
       "      <th>...</th>\n",
       "      <td>...</td>\n",
       "      <td>...</td>\n",
       "      <td>...</td>\n",
       "      <td>...</td>\n",
       "      <td>...</td>\n",
       "      <td>...</td>\n",
       "      <td>...</td>\n",
       "      <td>...</td>\n",
       "      <td>...</td>\n",
       "      <td>...</td>\n",
       "      <td>...</td>\n",
       "      <td>...</td>\n",
       "    </tr>\n",
       "    <tr>\n",
       "      <th>476</th>\n",
       "      <td>96334.0</td>\n",
       "      <td>94939.0</td>\n",
       "      <td>51674</td>\n",
       "      <td>37311.0</td>\n",
       "      <td>58255.0</td>\n",
       "      <td>NaN</td>\n",
       "      <td>NaN</td>\n",
       "      <td>NaN</td>\n",
       "      <td>NaN</td>\n",
       "      <td>NaN</td>\n",
       "      <td>NaN</td>\n",
       "      <td>NaN</td>\n",
       "    </tr>\n",
       "    <tr>\n",
       "      <th>477</th>\n",
       "      <td>27739.0</td>\n",
       "      <td>45613.0</td>\n",
       "      <td>81040</td>\n",
       "      <td>78123.0</td>\n",
       "      <td>NaN</td>\n",
       "      <td>NaN</td>\n",
       "      <td>NaN</td>\n",
       "      <td>NaN</td>\n",
       "      <td>NaN</td>\n",
       "      <td>NaN</td>\n",
       "      <td>NaN</td>\n",
       "      <td>NaN</td>\n",
       "    </tr>\n",
       "    <tr>\n",
       "      <th>478</th>\n",
       "      <td>2489.0</td>\n",
       "      <td>48219.0</td>\n",
       "      <td>98441</td>\n",
       "      <td>88945.0</td>\n",
       "      <td>NaN</td>\n",
       "      <td>NaN</td>\n",
       "      <td>NaN</td>\n",
       "      <td>NaN</td>\n",
       "      <td>NaN</td>\n",
       "      <td>NaN</td>\n",
       "      <td>NaN</td>\n",
       "      <td>NaN</td>\n",
       "    </tr>\n",
       "    <tr>\n",
       "      <th>479</th>\n",
       "      <td>66332.0</td>\n",
       "      <td>85543.0</td>\n",
       "      <td>33000</td>\n",
       "      <td>73309.0</td>\n",
       "      <td>NaN</td>\n",
       "      <td>NaN</td>\n",
       "      <td>NaN</td>\n",
       "      <td>NaN</td>\n",
       "      <td>NaN</td>\n",
       "      <td>NaN</td>\n",
       "      <td>NaN</td>\n",
       "      <td>NaN</td>\n",
       "    </tr>\n",
       "    <tr>\n",
       "      <th>480</th>\n",
       "      <td>81223.0</td>\n",
       "      <td>77038.0</td>\n",
       "      <td>72191</td>\n",
       "      <td>45622.0</td>\n",
       "      <td>NaN</td>\n",
       "      <td>NaN</td>\n",
       "      <td>NaN</td>\n",
       "      <td>NaN</td>\n",
       "      <td>NaN</td>\n",
       "      <td>NaN</td>\n",
       "      <td>NaN</td>\n",
       "      <td>NaN</td>\n",
       "    </tr>\n",
       "  </tbody>\n",
       "</table>\n",
       "<p>481 rows × 12 columns</p>\n",
       "</div>"
      ],
      "text/plain": [
       "       69855    41809  04144    47133    68113    67046    46302    22116  \\\n",
       "0    31012.0  40400.0  52726  25702.0  94558.0  96749.0  26550.0  43201.0   \n",
       "1     3953.0  98256.0  41355  61937.0  48476.0  26575.0  35710.0  12631.0   \n",
       "2    17236.0  63414.0  55928  27773.0  68735.0  33643.0  68410.0  79188.0   \n",
       "3    15170.0  92524.0  86110  18679.0  51816.0  23644.0  80838.0   6255.0   \n",
       "4    65651.0  61884.0  24464  84477.0  72286.0  51907.0  65097.0  41343.0   \n",
       "..       ...      ...    ...      ...      ...      ...      ...      ...   \n",
       "476  96334.0  94939.0  51674  37311.0  58255.0      NaN      NaN      NaN   \n",
       "477  27739.0  45613.0  81040  78123.0      NaN      NaN      NaN      NaN   \n",
       "478   2489.0  48219.0  98441  88945.0      NaN      NaN      NaN      NaN   \n",
       "479  66332.0  85543.0  33000  73309.0      NaN      NaN      NaN      NaN   \n",
       "480  81223.0  77038.0  72191  45622.0      NaN      NaN      NaN      NaN   \n",
       "\n",
       "       89807    85082    15457    34488  \n",
       "0    38809.0  54691.0  65460.0  11233.0  \n",
       "1    50604.0  56277.0  76684.0  81744.0  \n",
       "2    42991.0  73574.0   4602.0  37984.0  \n",
       "3    73098.0   3658.0  37700.0  49131.0  \n",
       "4    86653.0  15837.0  37452.0    238.0  \n",
       "..       ...      ...      ...      ...  \n",
       "476      NaN      NaN      NaN      NaN  \n",
       "477      NaN      NaN      NaN      NaN  \n",
       "478      NaN      NaN      NaN      NaN  \n",
       "479      NaN      NaN      NaN      NaN  \n",
       "480      NaN      NaN      NaN      NaN  \n",
       "\n",
       "[481 rows x 12 columns]"
      ]
     },
     "execution_count": 3,
     "metadata": {},
     "output_type": "execute_result"
    }
   ],
   "source": [
    "df = pd.read_excel('E:/Python/Loto/loto.xls')\n",
    "df"
   ]
  },
  {
   "cell_type": "code",
   "execution_count": 4,
   "metadata": {},
   "outputs": [],
   "source": [
    "df_matrix = np.int_(df)"
   ]
  },
  {
   "cell_type": "code",
   "execution_count": 5,
   "metadata": {},
   "outputs": [
    {
     "name": "stdout",
     "output_type": "stream",
     "text": [
      "[      81223       77038       72191       45622 -2147483648 -2147483648\n",
      " -2147483648 -2147483648 -2147483648 -2147483648 -2147483648 -2147483648]\n"
     ]
    }
   ],
   "source": [
    "print(df_matrix[-1])"
   ]
  },
  {
   "cell_type": "code",
   "execution_count": 6,
   "metadata": {},
   "outputs": [],
   "source": [
    "def checker(d_arr):\n",
    "    tmp = []\n",
    "    for i in d_arr:\n",
    "        if i < 0:\n",
    "            tmp.append(i)\n",
    "        else:\n",
    "            tmp.append(i % 100)\n",
    "    return tmp"
   ]
  },
  {
   "cell_type": "code",
   "execution_count": 8,
   "metadata": {},
   "outputs": [
    {
     "data": {
      "text/plain": [
       "array([[         12,           0,          26, ...,          91,\n",
       "                 60,          33],\n",
       "       [         53,          56,          55, ...,          77,\n",
       "                 84,          44],\n",
       "       [         36,          14,          28, ...,          74,\n",
       "                  2,          84],\n",
       "       ...,\n",
       "       [         89,          19,          41, ..., -2147483648,\n",
       "        -2147483648, -2147483648],\n",
       "       [         32,          43,           0, ..., -2147483648,\n",
       "        -2147483648, -2147483648],\n",
       "       [         23,          38,          91, ..., -2147483648,\n",
       "        -2147483648, -2147483648]])"
      ]
     },
     "execution_count": 8,
     "metadata": {},
     "output_type": "execute_result"
    }
   ],
   "source": [
    "df_matrix = [checker(d) for d in df_matrix]\n",
    "np.array(df_matrix)"
   ]
  },
  {
   "cell_type": "code",
   "execution_count": 12,
   "metadata": {},
   "outputs": [],
   "source": [
    "def get_rows(data, s_row = 0, e_row = 1):\n",
    "    return data[s_row:e_row]\n",
    "\n",
    "def data_concate(data):\n",
    "    concate = np.concatenate(data)\n",
    "    concate = np.array([num for num in concate if num >= 0])\n",
    "    return concate"
   ]
  },
  {
   "cell_type": "code",
   "execution_count": 13,
   "metadata": {},
   "outputs": [
    {
     "ename": "SyntaxError",
     "evalue": "invalid syntax (Temp/ipykernel_2644/1521810101.py, line 1)",
     "output_type": "error",
     "traceback": [
      "\u001b[1;36m  File \u001b[1;32m\"C:\\Users\\MyPC\\AppData\\Local\\Temp/ipykernel_2644/1521810101.py\"\u001b[1;36m, line \u001b[1;32m1\u001b[0m\n\u001b[1;33m    print data_concate(get_rows(data, 0, 31))\u001b[0m\n\u001b[1;37m          ^\u001b[0m\n\u001b[1;31mSyntaxError\u001b[0m\u001b[1;31m:\u001b[0m invalid syntax\n"
     ]
    }
   ],
   "source": [
    "print data_concate(get_rows(data, 0, 31))"
   ]
  },
  {
   "cell_type": "code",
   "execution_count": 3,
   "metadata": {},
   "outputs": [],
   "source": [
    "def guess_number_input():\n",
    "    guess_number_raw = input(\"Guess the number: \")\n",
    "    if guess_number_raw.isnumeric():\n",
    "        print(\"correct!\")\n",
    "    else:\n",
    "        print(\"wrong number\")"
   ]
  },
  {
   "cell_type": "code",
   "execution_count": 4,
   "metadata": {},
   "outputs": [
    {
     "name": "stdout",
     "output_type": "stream",
     "text": [
      "correct!\n"
     ]
    }
   ],
   "source": [
    "guess_number_input()"
   ]
  },
  {
   "cell_type": "code",
   "execution_count": 5,
   "metadata": {},
   "outputs": [],
   "source": [
    "import random\n",
    "\n",
    "\n",
    "def guess_number_input(valid_numbers):\n",
    "    guess_number_raw = input(\"Guess the number: \")\n",
    "    if guess_number_raw.isnumeric():\n",
    "        guess_number = int(guess_number_raw)\n",
    "        if guess_number in valid_numbers:\n",
    "            return guess_number\n",
    "        else:\n",
    "            print(\"your guess number isn't in valid numbers, please try again!\")\n",
    "            return -1\n",
    "    else:\n",
    "        print(\"wrong number, please try again!\")\n",
    "        return -1"
   ]
  },
  {
   "cell_type": "code",
   "execution_count": null,
   "metadata": {},
   "outputs": [],
   "source": []
  }
 ],
 "metadata": {
  "interpreter": {
   "hash": "7d02b7426e692fbbd84b68649eb3859898ba146ffc7adab2b0543bea598da7ad"
  },
  "kernelspec": {
   "display_name": "Python 3.9.7 64-bit",
   "language": "python",
   "name": "python3"
  },
  "language_info": {
   "codemirror_mode": {
    "name": "ipython",
    "version": 3
   },
   "file_extension": ".py",
   "mimetype": "text/x-python",
   "name": "python",
   "nbconvert_exporter": "python",
   "pygments_lexer": "ipython3",
   "version": "3.9.7"
  },
  "orig_nbformat": 4
 },
 "nbformat": 4,
 "nbformat_minor": 2
}
